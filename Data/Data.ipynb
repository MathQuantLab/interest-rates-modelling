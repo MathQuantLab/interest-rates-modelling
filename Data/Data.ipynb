{
 "cells": [
  {
   "cell_type": "code",
   "execution_count": null,
   "metadata": {},
   "outputs": [],
   "source": [
    "import pandas as pd\n",
    "import matplotlib.pyplot as plt\n",
    "\n",
    "df = pd.read_csv(\"france_short_rates.csv\")\n",
    "us_df = pd.read_csv(\"us_short_rates.csv\")"
   ]
  },
  {
   "cell_type": "code",
   "execution_count": null,
   "metadata": {},
   "outputs": [],
   "source": [
    "df.columns = [\"Date\", \"France\"]\n",
    "us_df.columns = [\"Date\", \"US\"]\n",
    "df[\"Date\"] = pd.to_datetime(df[\"Date\"])\n",
    "us_df[\"Date\"] = pd.to_datetime(us_df[\"Date\"])\n",
    "\n",
    "\n",
    "df.set_index(\"Date\", inplace=True)\n",
    "us_df.set_index(\"Date\", inplace=True)\n",
    "\n",
    "df = df.join(us_df, how=\"inner\")\n",
    "\n",
    "\n",
    "df.head()"
   ]
  },
  {
   "cell_type": "code",
   "execution_count": null,
   "metadata": {},
   "outputs": [],
   "source": [
    "plt.figure(figsize=(10, 5))\n",
    "plt.plot(df[\"France\"], label=\"France\")\n",
    "plt.plot(df[\"US\"], label=\"US\")\n",
    "plt.legend()\n",
    "plt.title(\"Short Rates\")\n",
    "plt.show()"
   ]
  }
 ],
 "metadata": {
  "kernelspec": {
   "display_name": "Python 3",
   "language": "python",
   "name": "python3"
  },
  "language_info": {
   "codemirror_mode": {
    "name": "ipython",
    "version": 3
   },
   "file_extension": ".py",
   "mimetype": "text/x-python",
   "name": "python",
   "nbconvert_exporter": "python",
   "pygments_lexer": "ipython3",
   "version": "3.12.1"
  }
 },
 "nbformat": 4,
 "nbformat_minor": 2
}
